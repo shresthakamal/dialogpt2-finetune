{
 "cells": [
  {
   "cell_type": "code",
   "execution_count": 2,
   "metadata": {},
   "outputs": [],
   "source": [
    "import pandas as pd\n",
    "import matplotlib.pyplot as plt\n",
    "from pathlib import Path"
   ]
  },
  {
   "cell_type": "code",
   "execution_count": 3,
   "metadata": {},
   "outputs": [],
   "source": [
    "DATA_DIR = Path(\"data\", \"ijcnlp_dailydialog\")"
   ]
  },
  {
   "cell_type": "code",
   "execution_count": 4,
   "metadata": {},
   "outputs": [],
   "source": [
    "dialogues_text = pd.read_csv(Path(DATA_DIR, \"dialogues_text.txt\"),  delimiter = \"\\n\", names = [\"dialogues\"])\n",
    "\n",
    "dialogues_emotion = pd.read_csv(Path(DATA_DIR, \"dialogues_emotion.txt\"),  delimiter = \"\\n\", names = [\"emotion\"])\n",
    "\n",
    "dialogues_act = pd.read_csv(Path(DATA_DIR, \"dialogues_act.txt\"),  delimiter = \"\\n\", names = [\"act\"])\n",
    "\n",
    "data = pd.DataFrame.from_dict({\"dialogues\": dialogues_text[\"dialogues\"], \"emotion\": dialogues_emotion[\"emotion\"], \"act\": dialogues_act[\"act\"]})"
   ]
  },
  {
   "cell_type": "code",
   "execution_count": 5,
   "metadata": {},
   "outputs": [
    {
     "data": {
      "text/html": [
       "<div>\n",
       "<style scoped>\n",
       "    .dataframe tbody tr th:only-of-type {\n",
       "        vertical-align: middle;\n",
       "    }\n",
       "\n",
       "    .dataframe tbody tr th {\n",
       "        vertical-align: top;\n",
       "    }\n",
       "\n",
       "    .dataframe thead th {\n",
       "        text-align: right;\n",
       "    }\n",
       "</style>\n",
       "<table border=\"1\" class=\"dataframe\">\n",
       "  <thead>\n",
       "    <tr style=\"text-align: right;\">\n",
       "      <th></th>\n",
       "      <th>dialogues</th>\n",
       "      <th>emotion</th>\n",
       "      <th>act</th>\n",
       "    </tr>\n",
       "  </thead>\n",
       "  <tbody>\n",
       "    <tr>\n",
       "      <th>0</th>\n",
       "      <td>The kitchen stinks . __eou__ I'll throw out th...</td>\n",
       "      <td>2 0</td>\n",
       "      <td>3 4</td>\n",
       "    </tr>\n",
       "    <tr>\n",
       "      <th>1</th>\n",
       "      <td>So Dick , how about getting some coffee for to...</td>\n",
       "      <td>4 2 0 1 0</td>\n",
       "      <td>3 4 3 1 1</td>\n",
       "    </tr>\n",
       "    <tr>\n",
       "      <th>2</th>\n",
       "      <td>Are things still going badly with your housegu...</td>\n",
       "      <td>0 1 0 0</td>\n",
       "      <td>2 1 3 4</td>\n",
       "    </tr>\n",
       "    <tr>\n",
       "      <th>3</th>\n",
       "      <td>Would you mind waiting a while ? __eou__ Well ...</td>\n",
       "      <td>0 0 0 4</td>\n",
       "      <td>3 2 1 1</td>\n",
       "    </tr>\n",
       "    <tr>\n",
       "      <th>4</th>\n",
       "      <td>Are you going to the annual party ? I can give...</td>\n",
       "      <td>0 4 4</td>\n",
       "      <td>3 4 1</td>\n",
       "    </tr>\n",
       "    <tr>\n",
       "      <th>...</th>\n",
       "      <td>...</td>\n",
       "      <td>...</td>\n",
       "      <td>...</td>\n",
       "    </tr>\n",
       "    <tr>\n",
       "      <th>13113</th>\n",
       "      <td>You have done an excellent job this year and w...</td>\n",
       "      <td>0 4 0 0 0 0 0 4</td>\n",
       "      <td>1 1 3 2 1 2 1 1</td>\n",
       "    </tr>\n",
       "    <tr>\n",
       "      <th>13114</th>\n",
       "      <td>Lindsay Tipping gave me your name as a referen...</td>\n",
       "      <td>0 4 0 0 0 0</td>\n",
       "      <td>1 1 2 1 2 1</td>\n",
       "    </tr>\n",
       "    <tr>\n",
       "      <th>13115</th>\n",
       "      <td>The consignments of chemical instruments have ...</td>\n",
       "      <td>0 0 0 6 0 0 0 0 0</td>\n",
       "      <td>3 2 1 2 1 3 3 3 4</td>\n",
       "    </tr>\n",
       "    <tr>\n",
       "      <th>13116</th>\n",
       "      <td>good morning . How can I help you ? __eou__ I'...</td>\n",
       "      <td>0 0 0 0 0 0 0 0 0 0 0 0 0 0 0 4 4</td>\n",
       "      <td>2 3 2 2 3 2 1 1 2 2 1 2 1 2 1 1 1</td>\n",
       "    </tr>\n",
       "    <tr>\n",
       "      <th>13117</th>\n",
       "      <td>May I ask you a few questions about insurance ...</td>\n",
       "      <td>0 0 0 0 0 0 0 0 0 0 0 0 0 0 4</td>\n",
       "      <td>3 4 2 1 2 1 1 1 2 1 3 2 1 4 1</td>\n",
       "    </tr>\n",
       "  </tbody>\n",
       "</table>\n",
       "<p>13118 rows × 3 columns</p>\n",
       "</div>"
      ],
      "text/plain": [
       "                                               dialogues  \\\n",
       "0      The kitchen stinks . __eou__ I'll throw out th...   \n",
       "1      So Dick , how about getting some coffee for to...   \n",
       "2      Are things still going badly with your housegu...   \n",
       "3      Would you mind waiting a while ? __eou__ Well ...   \n",
       "4      Are you going to the annual party ? I can give...   \n",
       "...                                                  ...   \n",
       "13113  You have done an excellent job this year and w...   \n",
       "13114  Lindsay Tipping gave me your name as a referen...   \n",
       "13115  The consignments of chemical instruments have ...   \n",
       "13116  good morning . How can I help you ? __eou__ I'...   \n",
       "13117  May I ask you a few questions about insurance ...   \n",
       "\n",
       "                                  emotion                                 act  \n",
       "0                                    2 0                                 3 4   \n",
       "1                              4 2 0 1 0                           3 4 3 1 1   \n",
       "2                                0 1 0 0                             2 1 3 4   \n",
       "3                                0 0 0 4                             3 2 1 1   \n",
       "4                                  0 4 4                               3 4 1   \n",
       "...                                   ...                                 ...  \n",
       "13113                    0 4 0 0 0 0 0 4                     1 1 3 2 1 2 1 1   \n",
       "13114                        0 4 0 0 0 0                         1 1 2 1 2 1   \n",
       "13115                  0 0 0 6 0 0 0 0 0                   3 2 1 2 1 3 3 3 4   \n",
       "13116  0 0 0 0 0 0 0 0 0 0 0 0 0 0 0 4 4   2 3 2 2 3 2 1 1 2 2 1 2 1 2 1 1 1   \n",
       "13117      0 0 0 0 0 0 0 0 0 0 0 0 0 0 4       3 4 2 1 2 1 1 1 2 1 3 2 1 4 1   \n",
       "\n",
       "[13118 rows x 3 columns]"
      ]
     },
     "execution_count": 5,
     "metadata": {},
     "output_type": "execute_result"
    }
   ],
   "source": [
    "data"
   ]
  },
  {
   "cell_type": "code",
   "execution_count": 6,
   "metadata": {},
   "outputs": [],
   "source": [
    "def seputterances(row):\n",
    "    try:\n",
    "        row = row.split(\"__eou__\")\n",
    "        row = row[:-1]\n",
    "        return row\n",
    "    except:\n",
    "        return row\n",
    "\n",
    "data[\"dialogues\"] = data[\"dialogues\"].apply(seputterances)\n",
    "\n",
    "def sep_emotions_act(row):\n",
    "    try:\n",
    "        row = row.split(\" \")\n",
    "        row = row[:-1]\n",
    "        return row\n",
    "    except:\n",
    "        return row\n",
    "\n",
    "data[\"emotion\"] = data[\"emotion\"].apply(sep_emotions_act)\n",
    "data[\"act\"] = data[\"act\"].apply(sep_emotions_act)"
   ]
  },
  {
   "cell_type": "code",
   "execution_count": 7,
   "metadata": {},
   "outputs": [],
   "source": [
    "def num_turns(row):\n",
    "    return len(row)\n",
    "\n",
    "data[\"num_turns\"] = data[\"dialogues\"].apply(num_turns)"
   ]
  },
  {
   "cell_type": "code",
   "execution_count": 8,
   "metadata": {},
   "outputs": [
    {
     "data": {
      "text/html": [
       "<div>\n",
       "<style scoped>\n",
       "    .dataframe tbody tr th:only-of-type {\n",
       "        vertical-align: middle;\n",
       "    }\n",
       "\n",
       "    .dataframe tbody tr th {\n",
       "        vertical-align: top;\n",
       "    }\n",
       "\n",
       "    .dataframe thead th {\n",
       "        text-align: right;\n",
       "    }\n",
       "</style>\n",
       "<table border=\"1\" class=\"dataframe\">\n",
       "  <thead>\n",
       "    <tr style=\"text-align: right;\">\n",
       "      <th></th>\n",
       "      <th>dialogues</th>\n",
       "      <th>emotion</th>\n",
       "      <th>act</th>\n",
       "      <th>num_turns</th>\n",
       "    </tr>\n",
       "  </thead>\n",
       "  <tbody>\n",
       "    <tr>\n",
       "      <th>0</th>\n",
       "      <td>[The kitchen stinks . ,  I'll throw out the ga...</td>\n",
       "      <td>[2, 0]</td>\n",
       "      <td>[3, 4]</td>\n",
       "      <td>2</td>\n",
       "    </tr>\n",
       "    <tr>\n",
       "      <th>1</th>\n",
       "      <td>[So Dick , how about getting some coffee for t...</td>\n",
       "      <td>[4, 2, 0, 1, 0]</td>\n",
       "      <td>[3, 4, 3, 1, 1]</td>\n",
       "      <td>5</td>\n",
       "    </tr>\n",
       "    <tr>\n",
       "      <th>2</th>\n",
       "      <td>[Are things still going badly with your houseg...</td>\n",
       "      <td>[0, 1, 0, 0]</td>\n",
       "      <td>[2, 1, 3, 4]</td>\n",
       "      <td>4</td>\n",
       "    </tr>\n",
       "    <tr>\n",
       "      <th>3</th>\n",
       "      <td>[Would you mind waiting a while ? ,  Well , ho...</td>\n",
       "      <td>[0, 0, 0, 4]</td>\n",
       "      <td>[3, 2, 1, 1]</td>\n",
       "      <td>4</td>\n",
       "    </tr>\n",
       "    <tr>\n",
       "      <th>4</th>\n",
       "      <td>[Are you going to the annual party ? I can giv...</td>\n",
       "      <td>[0, 4, 4]</td>\n",
       "      <td>[3, 4, 1]</td>\n",
       "      <td>3</td>\n",
       "    </tr>\n",
       "    <tr>\n",
       "      <th>...</th>\n",
       "      <td>...</td>\n",
       "      <td>...</td>\n",
       "      <td>...</td>\n",
       "      <td>...</td>\n",
       "    </tr>\n",
       "    <tr>\n",
       "      <th>13113</th>\n",
       "      <td>[You have done an excellent job this year and ...</td>\n",
       "      <td>[0, 4, 0, 0, 0, 0, 0, 4]</td>\n",
       "      <td>[1, 1, 3, 2, 1, 2, 1, 1]</td>\n",
       "      <td>8</td>\n",
       "    </tr>\n",
       "    <tr>\n",
       "      <th>13114</th>\n",
       "      <td>[Lindsay Tipping gave me your name as a refere...</td>\n",
       "      <td>[0, 4, 0, 0, 0, 0]</td>\n",
       "      <td>[1, 1, 2, 1, 2, 1]</td>\n",
       "      <td>6</td>\n",
       "    </tr>\n",
       "    <tr>\n",
       "      <th>13115</th>\n",
       "      <td>[The consignments of chemical instruments have...</td>\n",
       "      <td>[0, 0, 0, 6, 0, 0, 0, 0, 0]</td>\n",
       "      <td>[3, 2, 1, 2, 1, 3, 3, 3, 4]</td>\n",
       "      <td>9</td>\n",
       "    </tr>\n",
       "    <tr>\n",
       "      <th>13116</th>\n",
       "      <td>[good morning . How can I help you ? ,  I'd li...</td>\n",
       "      <td>[0, 0, 0, 0, 0, 0, 0, 0, 0, 0, 0, 0, 0, 0, 0, ...</td>\n",
       "      <td>[2, 3, 2, 2, 3, 2, 1, 1, 2, 2, 1, 2, 1, 2, 1, ...</td>\n",
       "      <td>17</td>\n",
       "    </tr>\n",
       "    <tr>\n",
       "      <th>13117</th>\n",
       "      <td>[May I ask you a few questions about insurance...</td>\n",
       "      <td>[0, 0, 0, 0, 0, 0, 0, 0, 0, 0, 0, 0, 0, 0, 4]</td>\n",
       "      <td>[3, 4, 2, 1, 2, 1, 1, 1, 2, 1, 3, 2, 1, 4, 1]</td>\n",
       "      <td>15</td>\n",
       "    </tr>\n",
       "  </tbody>\n",
       "</table>\n",
       "<p>13118 rows × 4 columns</p>\n",
       "</div>"
      ],
      "text/plain": [
       "                                               dialogues  \\\n",
       "0      [The kitchen stinks . ,  I'll throw out the ga...   \n",
       "1      [So Dick , how about getting some coffee for t...   \n",
       "2      [Are things still going badly with your houseg...   \n",
       "3      [Would you mind waiting a while ? ,  Well , ho...   \n",
       "4      [Are you going to the annual party ? I can giv...   \n",
       "...                                                  ...   \n",
       "13113  [You have done an excellent job this year and ...   \n",
       "13114  [Lindsay Tipping gave me your name as a refere...   \n",
       "13115  [The consignments of chemical instruments have...   \n",
       "13116  [good morning . How can I help you ? ,  I'd li...   \n",
       "13117  [May I ask you a few questions about insurance...   \n",
       "\n",
       "                                                 emotion  \\\n",
       "0                                                 [2, 0]   \n",
       "1                                        [4, 2, 0, 1, 0]   \n",
       "2                                           [0, 1, 0, 0]   \n",
       "3                                           [0, 0, 0, 4]   \n",
       "4                                              [0, 4, 4]   \n",
       "...                                                  ...   \n",
       "13113                           [0, 4, 0, 0, 0, 0, 0, 4]   \n",
       "13114                                 [0, 4, 0, 0, 0, 0]   \n",
       "13115                        [0, 0, 0, 6, 0, 0, 0, 0, 0]   \n",
       "13116  [0, 0, 0, 0, 0, 0, 0, 0, 0, 0, 0, 0, 0, 0, 0, ...   \n",
       "13117      [0, 0, 0, 0, 0, 0, 0, 0, 0, 0, 0, 0, 0, 0, 4]   \n",
       "\n",
       "                                                     act  num_turns  \n",
       "0                                                 [3, 4]          2  \n",
       "1                                        [3, 4, 3, 1, 1]          5  \n",
       "2                                           [2, 1, 3, 4]          4  \n",
       "3                                           [3, 2, 1, 1]          4  \n",
       "4                                              [3, 4, 1]          3  \n",
       "...                                                  ...        ...  \n",
       "13113                           [1, 1, 3, 2, 1, 2, 1, 1]          8  \n",
       "13114                                 [1, 1, 2, 1, 2, 1]          6  \n",
       "13115                        [3, 2, 1, 2, 1, 3, 3, 3, 4]          9  \n",
       "13116  [2, 3, 2, 2, 3, 2, 1, 1, 2, 2, 1, 2, 1, 2, 1, ...         17  \n",
       "13117      [3, 4, 2, 1, 2, 1, 1, 1, 2, 1, 3, 2, 1, 4, 1]         15  \n",
       "\n",
       "[13118 rows x 4 columns]"
      ]
     },
     "execution_count": 8,
     "metadata": {},
     "output_type": "execute_result"
    }
   ],
   "source": [
    "data"
   ]
  },
  {
   "cell_type": "code",
   "execution_count": 23,
   "metadata": {},
   "outputs": [
    {
     "name": "stdout",
     "output_type": "stream",
     "text": [
      "The kitchen stinks .   I'll throw out the garbage . \n"
     ]
    }
   ],
   "source": [
    "dataset = {\"S1\":[], \"S2\": []}\n",
    "\n",
    "\n",
    "for i in range(5):\n",
    "    for j in range(len(data[\"dialogues\"][i])):\n",
    "        dataset[\"S1\"].append(data[\"dialogues\"][i][j])\n",
    "        try:\n",
    "            dataset[\"S2\"].append(data[\"dialogues\"][i][j+1])\n",
    "        except:\n",
    "            dataset[\"S2\"].append(\"EOS\")\n",
    "\n",
    "print(dataset[\"S1\"][0], dataset[\"S2\"][0])"
   ]
  },
  {
   "cell_type": "code",
   "execution_count": null,
   "metadata": {},
   "outputs": [],
   "source": []
  },
  {
   "cell_type": "code",
   "execution_count": null,
   "metadata": {},
   "outputs": [],
   "source": []
  },
  {
   "cell_type": "code",
   "execution_count": null,
   "metadata": {},
   "outputs": [],
   "source": []
  },
  {
   "cell_type": "code",
   "execution_count": null,
   "metadata": {},
   "outputs": [],
   "source": []
  },
  {
   "cell_type": "code",
   "execution_count": null,
   "metadata": {},
   "outputs": [],
   "source": []
  },
  {
   "cell_type": "code",
   "execution_count": null,
   "metadata": {},
   "outputs": [],
   "source": []
  },
  {
   "cell_type": "code",
   "execution_count": 238,
   "metadata": {},
   "outputs": [
    {
     "data": {
      "text/plain": [
       "<AxesSubplot:>"
      ]
     },
     "execution_count": 238,
     "metadata": {},
     "output_type": "execute_result"
    },
    {
     "data": {
      "image/png": "[encoded data removed]",
      "text/plain": [
       "<Figure size 432x288 with 1 Axes>"
      ]
     },
     "metadata": {
      "needs_background": "light"
     },
     "output_type": "display_data"
    }
   ],
   "source": [
    "data[\"num_turns\"].value_counts().plot(kind=\"bar\")"
   ]
  },
  {
   "cell_type": "code",
   "execution_count": 239,
   "metadata": {},
   "outputs": [
    {
     "data": {
      "text/plain": [
       "count    13118.000000\n",
       "mean         7.850282\n",
       "std          3.986789\n",
       "min          2.000000\n",
       "25%          4.000000\n",
       "50%          7.000000\n",
       "75%         10.000000\n",
       "max         35.000000\n",
       "Name: num_turns, dtype: float64"
      ]
     },
     "execution_count": 239,
     "metadata": {},
     "output_type": "execute_result"
    }
   ],
   "source": [
    "data[\"num_turns\"].describe()"
   ]
  },
  {
   "cell_type": "code",
   "execution_count": 240,
   "metadata": {},
   "outputs": [
    {
     "data": {
      "text/plain": [
       "<BarContainer object of 7 artists>"
      ]
     },
     "execution_count": 240,
     "metadata": {},
     "output_type": "execute_result"
    },
    {
     "data": {
      "image/png": "[encoded data removed]",
      "text/plain": [
       "<Figure size 432x288 with 1 Axes>"
      ]
     },
     "metadata": {
      "needs_background": "light"
     },
     "output_type": "display_data"
    }
   ],
   "source": [
    "EMOTION_MAPPER = { 0: \"no emotion\", 1: \"anger\", 2: \"disgust\", 3: \"fear\", 4: \"happiness\", 5: \"sadness\", 6: \"surprise\"}\n",
    "\n",
    "emotions = {0: 0, 1: 0, 2: 0, 3: 0, 4: 0, 5: 0, 6: 0}\n",
    "\n",
    "def emotion_counter(row):\n",
    "    for emotion in row:\n",
    "        emotions[int(emotion)]+=1\n",
    "\n",
    "data[\"emotion\"].apply(emotion_counter)\n",
    "\n",
    "emotions = {EMOTION_MAPPER[k]:v for k,v in emotions.items()}\n",
    "\n",
    "plt.bar(emotions.keys(), emotions.values())"
   ]
  },
  {
   "cell_type": "code",
   "execution_count": 224,
   "metadata": {},
   "outputs": [
    {
     "data": {
      "text/plain": [
       "<BarContainer object of 4 artists>"
      ]
     },
     "execution_count": 224,
     "metadata": {},
     "output_type": "execute_result"
    },
    {
     "data": {
      "image/png": "[encoded data removed]",
      "text/plain": [
       "<Figure size 432x288 with 1 Axes>"
      ]
     },
     "metadata": {
      "needs_background": "light"
     },
     "output_type": "display_data"
    }
   ],
   "source": [
    "ACT_MAPPER = { 1: \"inform\", 2: \"question\", 3: \"directive\", 4: \"commissive\" }\n",
    "\n",
    "acts = { 1: 0, 2: 0, 3: 0, 4: 0 }\n",
    "\n",
    "def act_counter(row):\n",
    "    for act in row:\n",
    "        acts[int(act)]+=1\n",
    "\n",
    "data[\"act\"].apply(act_counter)\n",
    "\n",
    "acts = {ACT_MAPPER[k]:v for k,v in acts.items()}\n",
    "\n",
    "plt.bar(acts.keys(), acts.values())"
   ]
  },
  {
   "cell_type": "code",
   "execution_count": 225,
   "metadata": {},
   "outputs": [],
   "source": [
    "def tokenizer(row):\n",
    "    dialogue_tokens = []\n",
    "    for dialogues in row:\n",
    "        tokens = dialogues.split()\n",
    "        dialogue_tokens.append(tokens)\n",
    "\n",
    "    return dialogue_tokens\n",
    "\n",
    "\n",
    "data[\"tokens\"] = data[\"dialogues\"].apply(tokenizer)"
   ]
  },
  {
   "cell_type": "code",
   "execution_count": 226,
   "metadata": {},
   "outputs": [
    {
     "data": {
      "text/html": [
       "<div>\n",
       "<style scoped>\n",
       "    .dataframe tbody tr th:only-of-type {\n",
       "        vertical-align: middle;\n",
       "    }\n",
       "\n",
       "    .dataframe tbody tr th {\n",
       "        vertical-align: top;\n",
       "    }\n",
       "\n",
       "    .dataframe thead th {\n",
       "        text-align: right;\n",
       "    }\n",
       "</style>\n",
       "<table border=\"1\" class=\"dataframe\">\n",
       "  <thead>\n",
       "    <tr style=\"text-align: right;\">\n",
       "      <th></th>\n",
       "      <th>dialogues</th>\n",
       "      <th>emotion</th>\n",
       "      <th>act</th>\n",
       "      <th>num_turns</th>\n",
       "      <th>tokens</th>\n",
       "    </tr>\n",
       "  </thead>\n",
       "  <tbody>\n",
       "    <tr>\n",
       "      <th>0</th>\n",
       "      <td>[The kitchen stinks . ,  I'll throw out the ga...</td>\n",
       "      <td>[2, 0]</td>\n",
       "      <td>[3, 4]</td>\n",
       "      <td>2</td>\n",
       "      <td>[[The, kitchen, stinks, .], [I'll, throw, out,...</td>\n",
       "    </tr>\n",
       "    <tr>\n",
       "      <th>1</th>\n",
       "      <td>[So Dick , how about getting some coffee for t...</td>\n",
       "      <td>[4, 2, 0, 1, 0]</td>\n",
       "      <td>[3, 4, 3, 1, 1]</td>\n",
       "      <td>5</td>\n",
       "      <td>[[So, Dick, ,, how, about, getting, some, coff...</td>\n",
       "    </tr>\n",
       "    <tr>\n",
       "      <th>2</th>\n",
       "      <td>[Are things still going badly with your houseg...</td>\n",
       "      <td>[0, 1, 0, 0]</td>\n",
       "      <td>[2, 1, 3, 4]</td>\n",
       "      <td>4</td>\n",
       "      <td>[[Are, things, still, going, badly, with, your...</td>\n",
       "    </tr>\n",
       "    <tr>\n",
       "      <th>3</th>\n",
       "      <td>[Would you mind waiting a while ? ,  Well , ho...</td>\n",
       "      <td>[0, 0, 0, 4]</td>\n",
       "      <td>[3, 2, 1, 1]</td>\n",
       "      <td>4</td>\n",
       "      <td>[[Would, you, mind, waiting, a, while, ?], [We...</td>\n",
       "    </tr>\n",
       "    <tr>\n",
       "      <th>4</th>\n",
       "      <td>[Are you going to the annual party ? I can giv...</td>\n",
       "      <td>[0, 4, 4]</td>\n",
       "      <td>[3, 4, 1]</td>\n",
       "      <td>3</td>\n",
       "      <td>[[Are, you, going, to, the, annual, party, ?, ...</td>\n",
       "    </tr>\n",
       "    <tr>\n",
       "      <th>...</th>\n",
       "      <td>...</td>\n",
       "      <td>...</td>\n",
       "      <td>...</td>\n",
       "      <td>...</td>\n",
       "      <td>...</td>\n",
       "    </tr>\n",
       "    <tr>\n",
       "      <th>13113</th>\n",
       "      <td>[You have done an excellent job this year and ...</td>\n",
       "      <td>[0, 4, 0, 0, 0, 0, 0, 4]</td>\n",
       "      <td>[1, 1, 3, 2, 1, 2, 1, 1]</td>\n",
       "      <td>8</td>\n",
       "      <td>[[You, have, done, an, excellent, job, this, y...</td>\n",
       "    </tr>\n",
       "    <tr>\n",
       "      <th>13114</th>\n",
       "      <td>[Lindsay Tipping gave me your name as a refere...</td>\n",
       "      <td>[0, 4, 0, 0, 0, 0]</td>\n",
       "      <td>[1, 1, 2, 1, 2, 1]</td>\n",
       "      <td>6</td>\n",
       "      <td>[[Lindsay, Tipping, gave, me, your, name, as, ...</td>\n",
       "    </tr>\n",
       "    <tr>\n",
       "      <th>13115</th>\n",
       "      <td>[The consignments of chemical instruments have...</td>\n",
       "      <td>[0, 0, 0, 6, 0, 0, 0, 0, 0]</td>\n",
       "      <td>[3, 2, 1, 2, 1, 3, 3, 3, 4]</td>\n",
       "      <td>9</td>\n",
       "      <td>[[The, consignments, of, chemical, instruments...</td>\n",
       "    </tr>\n",
       "    <tr>\n",
       "      <th>13116</th>\n",
       "      <td>[good morning . How can I help you ? ,  I'd li...</td>\n",
       "      <td>[0, 0, 0, 0, 0, 0, 0, 0, 0, 0, 0, 0, 0, 0, 0, ...</td>\n",
       "      <td>[2, 3, 2, 2, 3, 2, 1, 1, 2, 2, 1, 2, 1, 2, 1, ...</td>\n",
       "      <td>17</td>\n",
       "      <td>[[good, morning, ., How, can, I, help, you, ?]...</td>\n",
       "    </tr>\n",
       "    <tr>\n",
       "      <th>13117</th>\n",
       "      <td>[May I ask you a few questions about insurance...</td>\n",
       "      <td>[0, 0, 0, 0, 0, 0, 0, 0, 0, 0, 0, 0, 0, 0, 4]</td>\n",
       "      <td>[3, 4, 2, 1, 2, 1, 1, 1, 2, 1, 3, 2, 1, 4, 1]</td>\n",
       "      <td>15</td>\n",
       "      <td>[[May, I, ask, you, a, few, questions, about, ...</td>\n",
       "    </tr>\n",
       "  </tbody>\n",
       "</table>\n",
       "<p>13118 rows × 5 columns</p>\n",
       "</div>"
      ],
      "text/plain": [
       "                                               dialogues  \\\n",
       "0      [The kitchen stinks . ,  I'll throw out the ga...   \n",
       "1      [So Dick , how about getting some coffee for t...   \n",
       "2      [Are things still going badly with your houseg...   \n",
       "3      [Would you mind waiting a while ? ,  Well , ho...   \n",
       "4      [Are you going to the annual party ? I can giv...   \n",
       "...                                                  ...   \n",
       "13113  [You have done an excellent job this year and ...   \n",
       "13114  [Lindsay Tipping gave me your name as a refere...   \n",
       "13115  [The consignments of chemical instruments have...   \n",
       "13116  [good morning . How can I help you ? ,  I'd li...   \n",
       "13117  [May I ask you a few questions about insurance...   \n",
       "\n",
       "                                                 emotion  \\\n",
       "0                                                 [2, 0]   \n",
       "1                                        [4, 2, 0, 1, 0]   \n",
       "2                                           [0, 1, 0, 0]   \n",
       "3                                           [0, 0, 0, 4]   \n",
       "4                                              [0, 4, 4]   \n",
       "...                                                  ...   \n",
       "13113                           [0, 4, 0, 0, 0, 0, 0, 4]   \n",
       "13114                                 [0, 4, 0, 0, 0, 0]   \n",
       "13115                        [0, 0, 0, 6, 0, 0, 0, 0, 0]   \n",
       "13116  [0, 0, 0, 0, 0, 0, 0, 0, 0, 0, 0, 0, 0, 0, 0, ...   \n",
       "13117      [0, 0, 0, 0, 0, 0, 0, 0, 0, 0, 0, 0, 0, 0, 4]   \n",
       "\n",
       "                                                     act  num_turns  \\\n",
       "0                                                 [3, 4]          2   \n",
       "1                                        [3, 4, 3, 1, 1]          5   \n",
       "2                                           [2, 1, 3, 4]          4   \n",
       "3                                           [3, 2, 1, 1]          4   \n",
       "4                                              [3, 4, 1]          3   \n",
       "...                                                  ...        ...   \n",
       "13113                           [1, 1, 3, 2, 1, 2, 1, 1]          8   \n",
       "13114                                 [1, 1, 2, 1, 2, 1]          6   \n",
       "13115                        [3, 2, 1, 2, 1, 3, 3, 3, 4]          9   \n",
       "13116  [2, 3, 2, 2, 3, 2, 1, 1, 2, 2, 1, 2, 1, 2, 1, ...         17   \n",
       "13117      [3, 4, 2, 1, 2, 1, 1, 1, 2, 1, 3, 2, 1, 4, 1]         15   \n",
       "\n",
       "                                                  tokens  \n",
       "0      [[The, kitchen, stinks, .], [I'll, throw, out,...  \n",
       "1      [[So, Dick, ,, how, about, getting, some, coff...  \n",
       "2      [[Are, things, still, going, badly, with, your...  \n",
       "3      [[Would, you, mind, waiting, a, while, ?], [We...  \n",
       "4      [[Are, you, going, to, the, annual, party, ?, ...  \n",
       "...                                                  ...  \n",
       "13113  [[You, have, done, an, excellent, job, this, y...  \n",
       "13114  [[Lindsay, Tipping, gave, me, your, name, as, ...  \n",
       "13115  [[The, consignments, of, chemical, instruments...  \n",
       "13116  [[good, morning, ., How, can, I, help, you, ?]...  \n",
       "13117  [[May, I, ask, you, a, few, questions, about, ...  \n",
       "\n",
       "[13118 rows x 5 columns]"
      ]
     },
     "execution_count": 226,
     "metadata": {},
     "output_type": "execute_result"
    }
   ],
   "source": [
    "data"
   ]
  },
  {
   "cell_type": "code",
   "execution_count": 1,
   "metadata": {},
   "outputs": [
    {
     "name": "stderr",
     "output_type": "stream",
     "text": [
      "/raid/cs18resch11003/anaconda3/envs/dialogpt/lib/python3.7/site-packages/tqdm/auto.py:22: TqdmWarning: IProgress not found. Please update jupyter and ipywidgets. See https://ipywidgets.readthedocs.io/en/stable/user_install.html\n",
      "  from .autonotebook import tqdm as notebook_tqdm\n",
      "Downloading: 100%|██████████| 823M/823M [00:27<00:00, 31.8MB/s] \n"
     ]
    },
    {
     "name": "stdout",
     "output_type": "stream",
     "text": [
      "DialoGPT: \n",
      "DialoGPT: I'm good, how are you?\n",
      "DialoGPT: I'm sorry, I'm not sure what to do.\n",
      "DialoGPT: I can't, I'm sorry.\n",
      "DialoGPT: I'm sorry, I'm not sure what to do.\n"
     ]
    }
   ],
   "source": [
    "from transformers import AutoModelForCausalLM, AutoTokenizer\n",
    "import torch\n",
    "\n",
    "\n",
    "tokenizer = AutoTokenizer.from_pretrained(\"microsoft/DialoGPT-medium\")\n",
    "model = AutoModelForCausalLM.from_pretrained(\"microsoft/DialoGPT-medium\")\n",
    "\n",
    "# Let's chat for 5 lines\n",
    "for step in range(5):\n",
    "    # encode the new user input, add the eos_token and return a tensor in Pytorch\n",
    "    new_user_input_ids = tokenizer.encode(input(\">> User:\") + tokenizer.eos_token, return_tensors='pt')\n",
    "\n",
    "    # append the new user input tokens to the chat history\n",
    "    bot_input_ids = torch.cat([chat_history_ids, new_user_input_ids], dim=-1) if step > 0 else new_user_input_ids\n",
    "\n",
    "    # generated a response while limiting the total chat history to 1000 tokens, \n",
    "    chat_history_ids = model.generate(bot_input_ids, max_length=1000, pad_token_id=tokenizer.eos_token_id)\n",
    "\n",
    "    # pretty print last ouput tokens from bot\n",
    "    print(\"DialoGPT: {}\".format(tokenizer.decode(chat_history_ids[:, bot_input_ids.shape[-1]:][0], skip_special_tokens=True)))\n"
   ]
  },
  {
   "cell_type": "code",
   "execution_count": null,
   "metadata": {},
   "outputs": [],
   "source": []
  }
 ],
 "metadata": {
  "kernelspec": {
   "display_name": "Python 3.7.13 ('dialogpt')",
   "language": "python",
   "name": "python3"
  },
  "language_info": {
   "codemirror_mode": {
    "name": "ipython",
    "version": 3
   },
   "file_extension": ".py",
   "mimetype": "text/x-python",
   "name": "python",
   "nbconvert_exporter": "python",
   "pygments_lexer": "ipython3",
   "version": "3.7.13"
  },
  "orig_nbformat": 4,
  "vscode": {
   "interpreter": {
    "hash": "47a16a6705441b6dda92a294eb31436c27952dbca87d6ec649ac2e31022a0dfe"
   }
  }
 },
 "nbformat": 4,
 "nbformat_minor": 2
}
