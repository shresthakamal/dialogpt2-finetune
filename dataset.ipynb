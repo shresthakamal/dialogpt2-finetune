{
 "cells": [
  {
   "cell_type": "code",
   "execution_count": 73,
   "metadata": {},
   "outputs": [],
   "source": [
    "\n",
    "from pathlib import Path\n",
    "from datasets import load_dataset\n",
    "\n",
    "\n",
    "data_files= {\"train\":\"data/ijcnlp_dailydialog/train/dialogues_train.txt\", \"test\":\"data/ijcnlp_dailydialog/test/dialogues_test.txt\"}"
   ]
  },
  {
   "cell_type": "code",
   "execution_count": 74,
   "metadata": {},
   "outputs": [
    {
     "name": "stderr",
     "output_type": "stream",
     "text": [
      "Using custom data configuration default-0e8377fb8b054a67\n",
      "Reusing dataset text (/home/cs18resch11003/.cache/huggingface/datasets/text/default-0e8377fb8b054a67/0.0.0/acc32f2f2ef863c93c2f30c52f7df6cc9053a1c2230b8d7da0d210404683ca08)\n",
      "100%|██████████| 2/2 [00:00<00:00, 740.98it/s]\n"
     ]
    },
    {
     "data": {
      "text/plain": [
       "DatasetDict({\n",
       "    train: Dataset({\n",
       "        features: ['text'],\n",
       "        num_rows: 11118\n",
       "    })\n",
       "    test: Dataset({\n",
       "        features: ['text'],\n",
       "        num_rows: 1000\n",
       "    })\n",
       "})"
      ]
     },
     "execution_count": 74,
     "metadata": {},
     "output_type": "execute_result"
    }
   ],
   "source": [
    "data = load_dataset(\"text\", data_files = data_files)\n",
    "data"
   ]
  },
  {
   "cell_type": "code",
   "execution_count": 23,
   "metadata": {},
   "outputs": [
    {
     "data": {
      "text/plain": [
       "DatasetDict({\n",
       "    train: Dataset({\n",
       "        features: ['text'],\n",
       "        num_rows: 11118\n",
       "    })\n",
       "    test: Dataset({\n",
       "        features: ['text'],\n",
       "        num_rows: 1000\n",
       "    })\n",
       "})"
      ]
     },
     "execution_count": 23,
     "metadata": {},
     "output_type": "execute_result"
    }
   ],
   "source": [
    "data"
   ]
  },
  {
   "cell_type": "code",
   "execution_count": 25,
   "metadata": {},
   "outputs": [
    {
     "name": "stderr",
     "output_type": "stream",
     "text": [
      "Loading cached shuffled indices for dataset at /home/cs18resch11003/.cache/huggingface/datasets/text/default-0e8377fb8b054a67/0.0.0/acc32f2f2ef863c93c2f30c52f7df6cc9053a1c2230b8d7da0d210404683ca08/cache-3bb01ad23946304f.arrow\n"
     ]
    }
   ],
   "source": [
    "train_sample = data[\"train\"].shuffle(seed=1234).select(range(1000))"
   ]
  },
  {
   "cell_type": "code",
   "execution_count": 30,
   "metadata": {},
   "outputs": [
    {
     "data": {
      "text/plain": [
       "Dataset({\n",
       "    features: ['text'],\n",
       "    num_rows: 1000\n",
       "})"
      ]
     },
     "execution_count": 30,
     "metadata": {},
     "output_type": "execute_result"
    }
   ],
   "source": [
    "train_sample"
   ]
  },
  {
   "cell_type": "code",
   "execution_count": 77,
   "metadata": {},
   "outputs": [],
   "source": [
    "def lower(row):\n",
    "    return {\"splitted\": [element.split(\"__eou__\") for element in row[\"text\"] ]}"
   ]
  },
  {
   "cell_type": "code",
   "execution_count": 78,
   "metadata": {},
   "outputs": [
    {
     "name": "stderr",
     "output_type": "stream",
     "text": [
      "100%|██████████| 1/1 [00:00<00:00, 81.06ba/s]\n"
     ]
    }
   ],
   "source": [
    "pt = train_sample.map(lower, batched=True)"
   ]
  },
  {
   "cell_type": "code",
   "execution_count": 70,
   "metadata": {},
   "outputs": [
    {
     "data": {
      "text/plain": [
       "{'text': 'I need help figuring out how to use this phone . __eou__ Sure . First you pick up the receiver and hit one of the first 3 buttons . Do you hear a tone ? __eou__ Yes , I hear the tone . __eou__ OK . Now you dial 9 on the keypad . Do you hear the tone change ? __eou__ Yes , it changed . __eou__ Well , when you hear it change , that means you have an outside line . Where are you trying to call ? __eou__ I am trying to call home . __eou__ OK . Well , to dial to the outside you just now dial the number . For a call inside the company just hit the extension number . Do you know the extensions ? __eou__ Yes , I have a list of extensions . __eou__ Well , if you ever need help with an extension , you can dial O . __eou__',\n",
       " 'splitted': ['I need help figuring out how to use this phone . ',\n",
       "  ' Sure . First you pick up the receiver and hit one of the first 3 buttons . Do you hear a tone ? ',\n",
       "  ' Yes , I hear the tone . ',\n",
       "  ' OK . Now you dial 9 on the keypad . Do you hear the tone change ? ',\n",
       "  ' Yes , it changed . ',\n",
       "  ' Well , when you hear it change , that means you have an outside line . Where are you trying to call ? ',\n",
       "  ' I am trying to call home . ',\n",
       "  ' OK . Well , to dial to the outside you just now dial the number . For a call inside the company just hit the extension number . Do you know the extensions ? ',\n",
       "  ' Yes , I have a list of extensions . ',\n",
       "  ' Well , if you ever need help with an extension , you can dial O . ',\n",
       "  '']}"
      ]
     },
     "execution_count": 70,
     "metadata": {},
     "output_type": "execute_result"
    }
   ],
   "source": [
    "pt[0]"
   ]
  },
  {
   "cell_type": "code",
   "execution_count": 60,
   "metadata": {},
   "outputs": [
    {
     "data": {
      "text/plain": [
       "\"I'm a transformer called BERT\""
      ]
     },
     "execution_count": 60,
     "metadata": {},
     "output_type": "execute_result"
    }
   ],
   "source": [
    "import html\n",
    "\n",
    "text = \"I&#039;m a transformer called BERT\"\n",
    "html.unescape(text)"
   ]
  },
  {
   "cell_type": "code",
   "execution_count": null,
   "metadata": {},
   "outputs": [],
   "source": [
    "drug_dataset = drug_dataset.map(lambda row: {\"review\": html.unescape(row[\"review\"])})"
   ]
  },
  {
   "cell_type": "code",
   "execution_count": null,
   "metadata": {},
   "outputs": [],
   "source": []
  }
 ],
 "metadata": {
  "kernelspec": {
   "display_name": "Python 3.7.13 ('dialogpt')",
   "language": "python",
   "name": "python3"
  },
  "language_info": {
   "codemirror_mode": {
    "name": "ipython",
    "version": 3
   },
   "file_extension": ".py",
   "mimetype": "text/x-python",
   "name": "python",
   "nbconvert_exporter": "python",
   "pygments_lexer": "ipython3",
   "version": "3.7.13"
  },
  "orig_nbformat": 4,
  "vscode": {
   "interpreter": {
    "hash": "47a16a6705441b6dda92a294eb31436c27952dbca87d6ec649ac2e31022a0dfe"
   }
  }
 },
 "nbformat": 4,
 "nbformat_minor": 2
}
